{
 "nbformat": 4,
 "nbformat_minor": 2,
 "metadata": {
  "language_info": {
   "name": "python",
   "codemirror_mode": {
    "name": "ipython",
    "version": 3
   }
  },
  "orig_nbformat": 2,
  "file_extension": ".py",
  "mimetype": "text/x-python",
  "name": "python",
  "npconvert_exporter": "python",
  "pygments_lexer": "ipython3",
  "version": 3
 },
 "cells": [
  {
   "cell_type": "code",
   "execution_count": 2,
   "metadata": {},
   "outputs": [
    {
     "name": "stdout",
     "output_type": "stream",
     "text": "tem\n"
    }
   ],
   "source": [
    "teste = []\n",
    "posi1 = [1,2]\n",
    "posi2 = [1,2]\n",
    "teste.append(posi1)\n",
    "\n",
    "if posi2 in teste:\n",
    "    print(\"tem\")"
   ]
  },
  {
   "cell_type": "code",
   "execution_count": null,
   "metadata": {},
   "outputs": [],
   "source": [
    " elif ( posi[0] + posi[1]) == (verifica[0] + verifica[1])  or abs(posi[0] - posi[1]) == abs(verifica[0] - verifica[1]) :"
   ]
  }
 ]
}