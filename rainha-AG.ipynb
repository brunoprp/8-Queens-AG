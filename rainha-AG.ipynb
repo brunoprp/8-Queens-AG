{
 "nbformat": 4,
 "nbformat_minor": 2,
 "metadata": {
  "language_info": {
   "name": "python",
   "codemirror_mode": {
    "name": "ipython",
    "version": 3
   }
  },
  "orig_nbformat": 2,
  "file_extension": ".py",
  "mimetype": "text/x-python",
  "name": "python",
  "npconvert_exporter": "python",
  "pygments_lexer": "ipython3",
  "version": 3
 },
 "cells": [
  {
   "cell_type": "code",
   "execution_count": 17,
   "metadata": {},
   "outputs": [],
   "source": [
    "import random\n",
    "import numpy as np"
   ]
  },
  {
   "cell_type": "markdown",
   "execution_count": null,
   "metadata": {},
   "outputs": [],
   "source": [
    "## Gerar individos e pupulação!"
   ]
  },
  {
   "cell_type": "code",
   "execution_count": 18,
   "metadata": {},
   "outputs": [],
   "source": [
    "class Individo:\n",
    "   def __init__(self, tamanho_tabuleiro, quanti_rainhas): #Construtor da classe\n",
    "      self.tamanho_tabuleiro = tamanho_tabuleiro\n",
    "      self.qunti_rainhas = quanti_rainhas\n",
    "   def gera_individo(self): # Um individo é uma maneira de como as rainhas vão fica no tabuleiro!\n",
    "      individo = []\n",
    "      while len(individo) < self.qunti_rainhas: # Verifica se o quantiade de rainhas no tabuleiro\n",
    "         xy = [] #Coordenada X e Y de uma rainha no tabuleiro\n",
    "         xy.append(random.randint(0, self.tamanho_tabuleiro -1)) # Coordenada X aleatoria\n",
    "         xy.append(random.randint(0, self.tamanho_tabuleiro -1)) # Coordenada Y aleatoria\n",
    "         if xy in individo: # Verifica se a coordenada gerada já existe no tabuleiro \n",
    "            print(\"Individo já existente!\")\n",
    "         else:\n",
    "            individo.append(xy)\n",
    "      return individo # Retorna uma lista das posições das rainhas no tabuleiro\n",
    "\n",
    "class Population: #Gera populção inicial com varios individos (Possiveis Solucões)\n",
    "   def __init__(self, tam_pop): #Constratutor de classe\n",
    "      self.tam_pop = tam_pop\n",
    "      self.pop = []\n",
    "   def gera_pop(self, tamanho_tabuleiro, quanti_rainhas):\n",
    "      individo = Individo(tamanho_tabuleiro, quanti_rainhas) # Instacinado a classe Individo\n",
    "      for i in range(self.tam_pop): # Gera a quantidade da pupulação\n",
    "         self.pop.append(individo.gera_individo()) # Chamando o metdo de gerar individo\n",
    "      return self.pop  #Retorna populçaõ inicial"
   ]
  },
  {
   "cell_type": "markdown",
   "execution_count": null,
   "metadata": {},
   "outputs": [],
   "source": [
    "## Fução fitness (Culcula qunatas rainhas estão se cruzando (Diagonais e linhas X Colunas))!"
   ]
  },
  {
   "cell_type": "code",
   "execution_count": 19,
   "metadata": {},
   "outputs": [],
   "source": [
    "class Custos:\n",
    "\n",
    "    def __init__(self, lista):\n",
    "       self.lista = lista\n",
    "       #self.lista_temp = []\n",
    "\n",
    "    def calculo_custo(self):\n",
    "      cont = 0\n",
    "      lista_verificada = []\n",
    "      def calculo_custo_LC():\n",
    "         lista_x = []\n",
    "         lista_y = []\n",
    "         cont = 0\n",
    "         for i in range(len(self.lista)):\n",
    "            pop = self.lista[i]\n",
    "            lista_x.append(pop[0])\n",
    "            lista_y.append(pop[1])\n",
    "         for j in range(0,len(lista_x)):\n",
    "            soma_x = lista_x.count(j)\n",
    "            soma_y = lista_y.count(j)\n",
    "            if soma_x == 0 or soma_x == 1:\n",
    "               soma_x = 0\n",
    "            if soma_y == 0 or soma_y == 1:\n",
    "               soma_y = 0\n",
    "            if soma_x > 0:\n",
    "               soma_x = soma_x-1\n",
    "            if soma_y > 0:\n",
    "               soma_y = soma_y-1\n",
    "            cont = cont+(soma_x+soma_y) \n",
    "         return cont\n",
    "          \n",
    "      custoLC = calculo_custo_LC()\n",
    "      \n",
    "      def verifica_lc(lista1, lista2):\n",
    "        verifica = False\n",
    "        if lista1[0] == lista2[0] or lista1[1] == lista2[1]:\n",
    "           verifica = True\n",
    "        return verifica\n",
    "        \n",
    "      ## Calculando o custo das diagonais\n",
    "      for i in range(0, len(self.lista)):\n",
    "         lista_temp =  self.lista[:]        \n",
    "         posi = self.lista[i]\n",
    "         lista_temp.pop(i)\n",
    "         for j in range(0, len(lista_temp)):\n",
    "            lista1 = []\n",
    "            \n",
    "            verifica = lista_temp[j]\n",
    "            \n",
    "            lista1.append(verifica)\n",
    "            lista1.append(posi)\n",
    "            \n",
    "            verfica_colunas = verifica_lc(posi, verifica)\n",
    "            \n",
    "            if lista1 in lista_verificada or verfica_colunas == True:\n",
    "                print(\"já foi verificado / ta na mesma linha ou coluna!\")\n",
    "\n",
    "            elif ( posi[0] + posi[1]) == (verifica[0] + verifica[1])  or (posi[0] - posi[1]) == (verifica[0] - verifica[1]) :\n",
    "                lista2 = []\n",
    "                lista2.append(posi)\n",
    "                lista2.append(verifica)\n",
    "                lista_verificada.append(lista2)              \n",
    "                cont+=1       \n",
    "      return  custoLC, cont,custoLC+cont, lista_verificada "
   ]
  },
  {
   "cell_type": "code",
   "execution_count": null,
   "metadata": {},
   "outputs": [],
   "source": [
    "class Generation:\n",
    "    def __init__(self, quant_gera, pop):\n",
    "        self.quant_gera = quant_gera\n",
    "        self.pop = pop\n"
   ]
  },
  {
   "cell_type": "code",
   "execution_count": 20,
   "metadata": {},
   "outputs": [
    {
     "name": "stdout",
     "output_type": "stream",
     "text": "Individo já existente!\nIndivido já existente!\nIndivido já existente!\nIndivido já existente!\nIndivido já existente!\nIndivido já existente!\n[[1, 7], [5, 1], [0, 5], [1, 4], [7, 0], [3, 5], [2, 1], [5, 5]]\n"
    }
   ],
   "source": [
    "teste = Population(10)\n",
    "teste2 = teste.gera_pop(8,8)\n",
    "print(teste2[0])\n"
   ]
  },
  {
   "cell_type": "code",
   "execution_count": null,
   "metadata": {},
   "outputs": [],
   "source": []
  }
 ]
}