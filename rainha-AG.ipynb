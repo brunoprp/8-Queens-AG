{
 "nbformat": 4,
 "nbformat_minor": 2,
 "metadata": {
  "language_info": {
   "name": "python",
   "codemirror_mode": {
    "name": "ipython",
    "version": 3
   }
  },
  "orig_nbformat": 2,
  "file_extension": ".py",
  "mimetype": "text/x-python",
  "name": "python",
  "npconvert_exporter": "python",
  "pygments_lexer": "ipython3",
  "version": 3
 },
 "cells": [
  {
   "cell_type": "code",
   "execution_count": 1,
   "metadata": {},
   "outputs": [],
   "source": [
    "import random\n",
    "import numpy as np\n"
   ]
  },
  {
   "cell_type": "code",
   "execution_count": 2,
   "metadata": {},
   "outputs": [],
   "source": [
    "class Pop:\n",
    "   def __init__(self, tamanho_tabuleiro, quanti_rainhas):\n",
    "      self.tamanho_tabuleiro = tamanho_tabuleiro\n",
    "      self.qunti_rainhas = quanti_rainhas\n",
    "   def gera_pop_inicial(self):\n",
    "      pop_inicial = []\n",
    "      while len(pop_inicial) < self.qunti_rainhas:\n",
    "         xy = []\n",
    "         xy.append(random.randint(0, self.tamanho_tabuleiro -1))\n",
    "         xy.append(random.randint(0, self.tamanho_tabuleiro -1))\n",
    "         if xy in pop_inicial:\n",
    "            print(\"posição já existente!\")\n",
    "         else:\n",
    "            pop_inicial.append(xy)\n",
    "      return pop_inicial\n",
    "   "
   ]
  },
  {
   "cell_type": "code",
   "execution_count": 3,
   "metadata": {},
   "outputs": [],
   "source": [
    "class Custos:\n",
    "\n",
    "    def __init__(self, lista):\n",
    "       self.lista = lista\n",
    "       #self.lista_temp = []\n",
    "\n",
    "    def calculo_custo_diag(self):\n",
    "      cont = 0\n",
    "      lista_verificada = []\n",
    "      \n",
    "      \n",
    "      \n",
    "      def calculo_custo_LC():\n",
    "         lista_x = []\n",
    "         lista_y = []\n",
    "         cont = 0\n",
    "         for i in range(len(self.lista)):\n",
    "            pop = self.lista[i]\n",
    "            lista_x.append(pop[0])\n",
    "            lista_y.append(pop[1])\n",
    "         for j in range(0,len(lista_x)):\n",
    "            soma_x = lista_x.count(j)\n",
    "            soma_y = lista_y.count(j)\n",
    "            if soma_x == 0 or soma_x == 1:\n",
    "               soma_x = 0\n",
    "            if soma_y == 0 or soma_y == 1:\n",
    "               soma_y = 0\n",
    "            if soma_x > 0:\n",
    "               soma_x = soma_x-1\n",
    "            if soma_y > 0:\n",
    "               soma_y = soma_y-1\n",
    "            cont = cont+(soma_x+soma_y) \n",
    "         return cont\n",
    "          \n",
    "      custoLC = calculo_custo_LC()\n",
    "      \n",
    "      def verifica_lc(lista1, lista2):\n",
    "        verifica = False\n",
    "        if lista1[0] == lista2[0] or lista1[1] == lista2[1]:\n",
    "           verifica = True\n",
    "        return verifica\n",
    "      \n",
    "      for i in range(0, len(self.lista)):\n",
    "         lista_temp =  self.lista[:]        \n",
    "         posi = self.lista[i]\n",
    "         lista_temp.pop(i)\n",
    "         for j in range(0, len(lista_temp)):\n",
    "            lista1 = []\n",
    "            \n",
    "            verifica = lista_temp[j]\n",
    "            \n",
    "            lista1.append(verifica)\n",
    "            lista1.append(posi)\n",
    "            \n",
    "            verfica_colunas = verifica_lc(posi, verifica)\n",
    "            \n",
    "            if lista1 in lista_verificada or verfica_colunas == True:\n",
    "                print(\"já foi verificado / ta na mesma linha ou coluna!\")\n",
    "\n",
    "            elif ( posi[0] + posi[1]) == (verifica[0] + verifica[1])  or (posi[0] - posi[1]) == (verifica[0] - verifica[1]) :\n",
    "                lista2 = []\n",
    "                lista2.append(posi)\n",
    "                lista2.append(verifica)\n",
    "                lista_verificada.append(lista2)              \n",
    "                cont+=1       \n",
    "      return  custoLC, cont,custoLC+cont, lista_verificada "
   ]
  },
  {
   "cell_type": "code",
   "execution_count": 4,
   "metadata": {},
   "outputs": [
    {
     "name": "stdout",
     "output_type": "stream",
     "text": "posição já existente!\njá foi verificado / ta na mesma linha ou coluna!\njá foi verificado / ta na mesma linha ou coluna!\njá foi verificado / ta na mesma linha ou coluna!\njá foi verificado / ta na mesma linha ou coluna!\njá foi verificado / ta na mesma linha ou coluna!\njá foi verificado / ta na mesma linha ou coluna!\njá foi verificado / ta na mesma linha ou coluna!\njá foi verificado / ta na mesma linha ou coluna!\njá foi verificado / ta na mesma linha ou coluna!\njá foi verificado / ta na mesma linha ou coluna!\njá foi verificado / ta na mesma linha ou coluna!\njá foi verificado / ta na mesma linha ou coluna!\njá foi verificado / ta na mesma linha ou coluna!\njá foi verificado / ta na mesma linha ou coluna!\njá foi verificado / ta na mesma linha ou coluna!\njá foi verificado / ta na mesma linha ou coluna!\njá foi verificado / ta na mesma linha ou coluna!\njá foi verificado / ta na mesma linha ou coluna!\n(5, 4, 9, [[[4, 1], [7, 4]], [[2, 7], [5, 4]], [[4, 6], [3, 5]], [[4, 7], [7, 4]]])\n"
    }
   ],
   "source": [
    "teste = Pop(8,8)\n",
    "teste2 = teste.gera_pop_inicial()\n",
    "custo = Custos(teste2)\n",
    "\n",
    "print(custo.calculo_custo_diag())\n",
    "#print(custo.calculo_custo_LC())\n",
    "\n"
   ]
  }
 ]
}